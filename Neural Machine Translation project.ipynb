{
 "cells": [
  {
   "cell_type": "code",
   "execution_count": 113,
   "metadata": {
    "colab": {},
    "colab_type": "code",
    "id": "-jgXzyPlyOSA"
   },
   "outputs": [],
   "source": [
    "import string\n",
    "import re\n",
    "from pickle import dump\n",
    "from unicodedata import normalize\n",
    "from numpy import array\n",
    "from keras.preprocessing.text import Tokenizer\n",
    "import tensorflow as tf\n",
    "from tensorflow.keras.models import Sequential\n",
    "from tensorflow.keras.layers import Embedding, Bidirectional, LSTM, Dense, RepeatVector , TimeDistributed\n",
    "from tensorflow.keras.optimizers import Adam\n",
    "import matplotlib.pyplot as plt\n",
    "from tensorflow.keras.callbacks import EarlyStopping , ModelCheckpoint\n",
    "from keras.models import load_model"
   ]
  },
  {
   "cell_type": "code",
   "execution_count": 114,
   "metadata": {
    "colab": {},
    "colab_type": "code",
    "id": "vKXQ5foJyOSG"
   },
   "outputs": [],
   "source": [
    "# load doc into memory\n",
    "def load_doc(filename):\n",
    "    file = open(filename, mode='rt', encoding='utf-8')\n",
    "    text = file.read()\n",
    "    file.close()\n",
    "    return text\n"
   ]
  },
  {
   "cell_type": "code",
   "execution_count": 115,
   "metadata": {
    "colab": {},
    "colab_type": "code",
    "id": "f7z8arSKyOSJ"
   },
   "outputs": [],
   "source": [
    "# split a loaded document into sentences\n",
    "def to_pairs(doc):\n",
    "    lines = doc.strip().split('\\n')\n",
    "    pairs = [line.split('\\t') for line in  lines]\n",
    "    return pairs"
   ]
  },
  {
   "cell_type": "code",
   "execution_count": 116,
   "metadata": {
    "colab": {
     "base_uri": "https://localhost:8080/",
     "height": 874
    },
    "colab_type": "code",
    "id": "J54dSmooyOSM",
    "outputId": "5bcdfac5-3026-405f-cbdf-0f659ea2fa23"
   },
   "outputs": [
    {
     "name": "stdout",
     "output_type": "stream",
     "text": [
      "Saved: english-french.pkl\n",
      "[go] => [va]\n",
      "[hi] => [salut]\n",
      "[hi] => [salut]\n",
      "[run] => [cours]\n",
      "[run] => [courez]\n",
      "[who] => [qui]\n",
      "[wow] => [ca alors]\n",
      "[fire] => [au feu]\n",
      "[help] => [a laide]\n",
      "[jump] => [saute]\n",
      "[stop] => [ca suffit]\n",
      "[stop] => [stop]\n",
      "[stop] => [arretetoi]\n",
      "[wait] => [attends]\n",
      "[wait] => [attendez]\n",
      "[go on] => [poursuis]\n",
      "[go on] => [continuez]\n",
      "[go on] => [poursuivez]\n",
      "[hello] => [bonjour]\n",
      "[hello] => [salut]\n",
      "[i see] => [je comprends]\n",
      "[i try] => [jessaye]\n",
      "[i won] => [jai gagne]\n",
      "[i won] => [je lai emporte]\n",
      "[i won] => [jai gagne]\n",
      "[oh no] => [oh non]\n",
      "[attack] => [attaque]\n",
      "[attack] => [attaquez]\n",
      "[cheers] => [sante]\n",
      "[cheers] => [a votre sante]\n",
      "[cheers] => [merci]\n",
      "[cheers] => [tchintchin]\n",
      "[get up] => [levetoi]\n",
      "[go now] => [va maintenant]\n",
      "[go now] => [allezy maintenant]\n",
      "[go now] => [vasy maintenant]\n",
      "[got it] => [jai pige]\n",
      "[got it] => [compris]\n",
      "[got it] => [pige]\n",
      "[got it] => [compris]\n",
      "[got it] => [tas capte]\n",
      "[hop in] => [monte]\n",
      "[hop in] => [montez]\n",
      "[hug me] => [serremoi dans tes bras]\n",
      "[hug me] => [serrezmoi dans vos bras]\n",
      "[i fell] => [je suis tombee]\n",
      "[i fell] => [je suis tombe]\n",
      "[i know] => [je sais]\n",
      "[i left] => [je suis parti]\n",
      "[i left] => [je suis partie]\n"
     ]
    }
   ],
   "source": [
    "# clean a list of lines\n",
    "def clean_pairs(lines):\n",
    "\tcleaned = list()\n",
    "\t# prepare regex for char filtering\n",
    "\tre_print = re.compile('[^%s]' % re.escape(string.printable))\n",
    "\t# prepare translation table for removing punctuation\n",
    "\ttable = str.maketrans('', '', string.punctuation)\n",
    "\tfor pair in lines:\n",
    "\t\tclean_pair = list()\n",
    "\t\tfor line in pair:\n",
    "\t\t\t# normalize unicode characters\n",
    "\t\t\tline = normalize('NFD', line).encode('ascii', 'ignore')\n",
    "\t\t\tline = line.decode('UTF-8')\n",
    "\t\t\t# tokenize on white space\n",
    "\t\t\tline = line.split()\n",
    "\t\t\t# convert to lowercase\n",
    "\t\t\tline = [word.lower() for word in line]\n",
    "\t\t\t# remove punctuation from each token\n",
    "\t\t\tline = [word.translate(table) for word in line]\n",
    "\t\t\t# remove non-printable chars form each token\n",
    "\t\t\tline = [re_print.sub('', w) for w in line]\n",
    "\t\t\t# remove tokens with numbers in them\n",
    "\t\t\tline = [word for word in line if word.isalpha()]\n",
    "\t\t\t# store as string\n",
    "\t\t\tclean_pair.append(' '.join(line))\n",
    "\t\tcleaned.append(clean_pair)\n",
    "\treturn array(cleaned)\n",
    " \n",
    "# save a list of clean sentences to file\n",
    "def save_clean_data(sentences, filename):\n",
    "\tdump(sentences, open(filename, 'wb'))\n",
    "\tprint('Saved: %s' % filename)\n",
    " \n",
    "# load dataset\n",
    "filename = '/content/sample_data/fra.txt'\n",
    "doc = load_doc(filename)\n",
    "# split into english-german pairs\n",
    "pairs = to_pairs(doc)\n",
    "# clean sentences\n",
    "clean_pairs = clean_pairs(pairs)\n",
    "# save clean pairs to file\n",
    "save_clean_data(clean_pairs, 'english-french.pkl')\n",
    "# spot check\n",
    "for i in range(50):\n",
    "\tprint('[%s] => [%s]' % (clean_pairs[i,0], clean_pairs[i,1]))"
   ]
  },
  {
   "cell_type": "code",
   "execution_count": 117,
   "metadata": {
    "colab": {
     "base_uri": "https://localhost:8080/",
     "height": 185
    },
    "colab_type": "code",
    "id": "ISxHqSwPyOSR",
    "outputId": "11830851-1e5e-49fc-961b-926bf70f12b4"
   },
   "outputs": [
    {
     "name": "stdout",
     "output_type": "stream",
     "text": [
      "[go] => [va]\n",
      "[hi] => [salut]\n",
      "[hi] => [salut]\n",
      "[run] => [cours]\n",
      "[run] => [courez]\n",
      "[who] => [qui]\n",
      "[wow] => [ca alors]\n",
      "[fire] => [au feu]\n",
      "[help] => [a laide]\n",
      "[jump] => [saute]\n"
     ]
    }
   ],
   "source": [
    "for i in range(10):\n",
    "\tprint('[%s] => [%s]' % (clean_pairs[i,0], clean_pairs[i,1]))"
   ]
  },
  {
   "cell_type": "code",
   "execution_count": 118,
   "metadata": {
    "colab": {
     "base_uri": "https://localhost:8080/",
     "height": 67
    },
    "colab_type": "code",
    "id": "zsBI5bqnyOSU",
    "outputId": "d537c213-5794-4ae0-811f-b55e9b47e5d1"
   },
   "outputs": [
    {
     "name": "stdout",
     "output_type": "stream",
     "text": [
      "Saved: english-french-both.pkl\n",
      "Saved: english-french-train.pkl\n",
      "Saved: english-french-test.pkl\n"
     ]
    }
   ],
   "source": [
    "from pickle import load\n",
    "from pickle import dump\n",
    "from numpy.random import rand\n",
    "from numpy.random import shuffle\n",
    " \n",
    "# load a clean dataset\n",
    "def load_clean_sentences(filename):\n",
    "\treturn load(open(filename, 'rb'))\n",
    " \n",
    "# save a list of clean sentences to file\n",
    "def save_clean_data(sentences, filename):\n",
    "\tdump(sentences, open(filename, 'wb'))\n",
    "\tprint('Saved: %s' % filename)\n",
    " \n",
    "# load dataset\n",
    "raw_dataset = load_clean_sentences('english-french.pkl')\n",
    " \n",
    "# reduce dataset size\n",
    "n_sentences = 10000\n",
    "dataset = raw_dataset[:n_sentences, :]\n",
    "# random shuffle\n",
    "shuffle(dataset)\n",
    "# split into train/test\n",
    "train, test = dataset[:9000], dataset[9000:]\n",
    "# save\n",
    "save_clean_data(dataset, 'english-french-both.pkl')\n",
    "save_clean_data(train, 'english-french-train.pkl')\n",
    "save_clean_data(test, 'english-french-test.pkl')"
   ]
  },
  {
   "cell_type": "code",
   "execution_count": 119,
   "metadata": {
    "colab": {},
    "colab_type": "code",
    "id": "BPmZuNyhyOSX"
   },
   "outputs": [],
   "source": [
    "# load a clean dataset\n",
    "def load_clean_sentences(filename):\n",
    "\treturn load(open(filename, 'rb'))\n",
    " \n",
    "# load datasets\n",
    "dataset = load_clean_sentences('english-french-both.pkl')\n",
    "train = load_clean_sentences('english-french-train.pkl')\n",
    "test = load_clean_sentences('english-french-test.pkl')"
   ]
  },
  {
   "cell_type": "code",
   "execution_count": 120,
   "metadata": {
    "colab": {
     "base_uri": "https://localhost:8080/",
     "height": 235
    },
    "colab_type": "code",
    "id": "inRjqyNLyOSa",
    "outputId": "7d1d0421-c0fa-4d78-e557-a87f0d995b65"
   },
   "outputs": [
    {
     "name": "stdout",
     "output_type": "stream",
     "text": [
      "[['we broke up' 'nous avons rompu'\n",
      "  'ccby france attribution tatoebaorg hybrid sacredceltic']\n",
      " ['give me a hand' 'pretezmoi main forte'\n",
      "  'ccby france attribution tatoebaorg ck sacredceltic']\n",
      " ['dont do it' 'ne le faites pas'\n",
      "  'ccby france attribution tatoebaorg scott sacredceltic']\n",
      " ...\n",
      " ['i will testify' 'je temoignerai'\n",
      "  'ccby france attribution tatoebaorg ck sacredceltic']\n",
      " ['im desperate' 'je suis desesperee'\n",
      "  'ccby france attribution tatoebaorg erikspen micsmithel']\n",
      " ['are you joking' 'estce que tu blagues'\n",
      "  'ccby france attribution tatoebaorg ck sacredceltic']]\n"
     ]
    }
   ],
   "source": [
    "print(train)"
   ]
  },
  {
   "cell_type": "code",
   "execution_count": 121,
   "metadata": {
    "colab": {
     "base_uri": "https://localhost:8080/",
     "height": 34
    },
    "colab_type": "code",
    "id": "p1paB2gGyOSd",
    "outputId": "cb99ef35-47e4-4456-cbda-1eea6cf662ac"
   },
   "outputs": [
    {
     "data": {
      "text/plain": [
       "(9000, 3)"
      ]
     },
     "execution_count": 121,
     "metadata": {
      "tags": []
     },
     "output_type": "execute_result"
    }
   ],
   "source": [
    "train.shape"
   ]
  },
  {
   "cell_type": "code",
   "execution_count": 122,
   "metadata": {
    "colab": {
     "base_uri": "https://localhost:8080/",
     "height": 34
    },
    "colab_type": "code",
    "id": "gK4huZsTyOSg",
    "outputId": "b68373b3-4b50-4d0f-a659-32759829c011"
   },
   "outputs": [
    {
     "data": {
      "text/plain": [
       "(1000, 3)"
      ]
     },
     "execution_count": 122,
     "metadata": {
      "tags": []
     },
     "output_type": "execute_result"
    }
   ],
   "source": [
    "test.shape"
   ]
  },
  {
   "cell_type": "code",
   "execution_count": 123,
   "metadata": {
    "colab": {
     "base_uri": "https://localhost:8080/",
     "height": 218
    },
    "colab_type": "code",
    "id": "KkOM-026yOSj",
    "outputId": "0e4ad7bb-7d15-4c02-cc1f-ef55b4ebaf1b"
   },
   "outputs": [
    {
     "name": "stdout",
     "output_type": "stream",
     "text": [
      "[['save tom' 'sauvez tom' 'ccby france attribution tatoebaorg ck aiji']\n",
      " ['youre crafty' 'vous etes rusees'\n",
      "  'ccby france attribution tatoebaorg ck sacredceltic']\n",
      " ['i have doubts' 'jai des doutes'\n",
      "  'ccby france attribution tatoebaorg ck aiji']\n",
      " ...\n",
      " ['i love animals' 'jadore les animaux'\n",
      "  'ccby france attribution tatoebaorg hybrid sacredceltic']\n",
      " ['he is outgoing' 'il est extraverti'\n",
      "  'ccby france attribution tatoebaorg ck sacredceltic']\n",
      " ['just ignore it' 'ignorele simplement'\n",
      "  'ccby france attribution tatoebaorg hybrid sacredceltic']]\n"
     ]
    }
   ],
   "source": [
    "print(test)"
   ]
  },
  {
   "cell_type": "code",
   "execution_count": 124,
   "metadata": {
    "colab": {},
    "colab_type": "code",
    "id": "f3qxL0gryOSl"
   },
   "outputs": [],
   "source": [
    "# fit a tokenizer\n",
    "def create_tokenizer(lines):\n",
    "\ttokenizer = Tokenizer()\n",
    "\ttokenizer.fit_on_texts(lines)\n",
    "\treturn tokenizer"
   ]
  },
  {
   "cell_type": "code",
   "execution_count": 125,
   "metadata": {
    "colab": {},
    "colab_type": "code",
    "id": "4eUTKLI6yOSo"
   },
   "outputs": [],
   "source": [
    "# max sentence length\n",
    "def max_length(lines):\n",
    "\treturn max(len(line.split()) for line in lines)"
   ]
  },
  {
   "cell_type": "code",
   "execution_count": 126,
   "metadata": {
    "colab": {
     "base_uri": "https://localhost:8080/",
     "height": 84
    },
    "colab_type": "code",
    "id": "K5w8IxZTyOSq",
    "outputId": "9cc7ae96-3de1-472c-ad10-694c85a9b582"
   },
   "outputs": [
    {
     "name": "stdout",
     "output_type": "stream",
     "text": [
      "English Vocabulary Size: 2136\n",
      "English Max Length: 5\n",
      "French Vocabulary Size: 4380\n",
      "French Max Length: 10\n"
     ]
    }
   ],
   "source": [
    "# prepare english tokenizer\n",
    "eng_tokenizer = create_tokenizer(dataset[:, 0])\n",
    "eng_vocab_size = len(eng_tokenizer.word_index) + 1\n",
    "eng_length = max_length(dataset[:, 0])\n",
    "print('English Vocabulary Size: %d' % eng_vocab_size)\n",
    "print('English Max Length: %d' % (eng_length))\n",
    "# prepare german tokenizer\n",
    "ger_tokenizer = create_tokenizer(dataset[:, 1])\n",
    "ger_vocab_size = len(ger_tokenizer.word_index) + 1\n",
    "ger_length = max_length(dataset[:, 1])\n",
    "print('French Vocabulary Size: %d' % ger_vocab_size)\n",
    "print('French Max Length: %d' % (ger_length))"
   ]
  },
  {
   "cell_type": "code",
   "execution_count": 127,
   "metadata": {
    "colab": {},
    "colab_type": "code",
    "id": "4trAtFolyOSs"
   },
   "outputs": [],
   "source": [
    "# encode and pad sequences\n",
    "from keras.preprocessing.sequence import pad_sequences\n",
    "# define sequences\n",
    "def encode_sequences(tokenizer, length, lines):\n",
    "\t# integer encode sequences\n",
    "\tX = tokenizer.texts_to_sequences(lines)\n",
    "\t# pad sequences with 0 values\n",
    "\tX = pad_sequences(X, maxlen=length, padding='post')\n",
    "\treturn X"
   ]
  },
  {
   "cell_type": "code",
   "execution_count": 128,
   "metadata": {
    "colab": {},
    "colab_type": "code",
    "id": "ID18lnGEyOSw"
   },
   "outputs": [],
   "source": [
    "# one hot encode target sequence\n",
    "from keras.utils import to_categorical\n",
    "def encode_output(sequences, vocab_size):\n",
    "\tylist = list()\n",
    "\tfor sequence in sequences:\n",
    "\t\tencoded = to_categorical(sequence, num_classes=vocab_size)\n",
    "\t\tylist.append(encoded)\n",
    "\ty = array(ylist)\n",
    "\ty = y.reshape(sequences.shape[0], sequences.shape[1], vocab_size)\n",
    "\treturn y"
   ]
  },
  {
   "cell_type": "code",
   "execution_count": 129,
   "metadata": {
    "colab": {},
    "colab_type": "code",
    "id": "aCQu-WycyOSz"
   },
   "outputs": [],
   "source": [
    "# prepare training data\n",
    "trainX = encode_sequences(ger_tokenizer, ger_length, train[:, 1])\n",
    "trainY = encode_sequences(eng_tokenizer, eng_length, train[:, 0])\n",
    "trainY = encode_output(trainY, eng_vocab_size)\n",
    "# prepare validation data\n",
    "testX = encode_sequences(ger_tokenizer, ger_length, test[:, 1])\n",
    "testY = encode_sequences(eng_tokenizer, eng_length, test[:, 0])\n",
    "testY = encode_output(testY, eng_vocab_size)"
   ]
  },
  {
   "cell_type": "code",
   "execution_count": 130,
   "metadata": {
    "colab": {
     "base_uri": "https://localhost:8080/",
     "height": 336
    },
    "colab_type": "code",
    "id": "ZxIgPaoLyOS1",
    "outputId": "5878fbe8-4cd1-4cf6-fe8b-9a8dfd452368"
   },
   "outputs": [
    {
     "name": "stdout",
     "output_type": "stream",
     "text": [
      "Model: \"sequential_10\"\n",
      "_________________________________________________________________\n",
      "Layer (type)                 Output Shape              Param #   \n",
      "=================================================================\n",
      "embedding_10 (Embedding)     (None, 10, 256)           1121280   \n",
      "_________________________________________________________________\n",
      "lstm_19 (LSTM)               (None, 256)               525312    \n",
      "_________________________________________________________________\n",
      "repeat_vector_9 (RepeatVecto (None, 5, 256)            0         \n",
      "_________________________________________________________________\n",
      "lstm_20 (LSTM)               (None, 5, 256)            525312    \n",
      "_________________________________________________________________\n",
      "time_distributed_8 (TimeDist (None, 5, 2136)           548952    \n",
      "=================================================================\n",
      "Total params: 2,720,856\n",
      "Trainable params: 2,720,856\n",
      "Non-trainable params: 0\n",
      "_________________________________________________________________\n",
      "None\n"
     ]
    }
   ],
   "source": [
    "# define NMT model\n",
    "def define_model(src_vocab, tar_vocab, src_timesteps, tar_timesteps, n_units):\n",
    "\tmodel = Sequential()\n",
    "\tmodel.add(Embedding(src_vocab, n_units, input_length=src_timesteps, mask_zero=True))\n",
    "\tmodel.add(LSTM(n_units))\n",
    "\tmodel.add(RepeatVector(tar_timesteps))\n",
    "\tmodel.add(LSTM(n_units, return_sequences=True))\n",
    "\tmodel.add(TimeDistributed(Dense(tar_vocab, activation='softmax')))\n",
    "\treturn model\n",
    "\n",
    "# define model\n",
    "model = define_model(ger_vocab_size, eng_vocab_size, ger_length, eng_length, 256)\n",
    "model.compile(optimizer='adam', loss='categorical_crossentropy')\n",
    "# summarize defined model\n",
    "print(model.summary())\n",
    "#plt.plot(model, to_file='model.png', show_shapes=True)"
   ]
  },
  {
   "cell_type": "code",
   "execution_count": 131,
   "metadata": {
    "colab": {
     "base_uri": "https://localhost:8080/",
     "height": 1000
    },
    "colab_type": "code",
    "id": "WPv4qEB7yOS5",
    "outputId": "c7c08281-5b61-42b3-cdcb-b75bd9201a72"
   },
   "outputs": [
    {
     "name": "stdout",
     "output_type": "stream",
     "text": [
      "Epoch 1/30\n",
      "\n",
      "Epoch 00001: val_loss improved from inf to 3.40430, saving model to model.h5\n",
      "141/141 - 23s - loss: 4.1965 - val_loss: 3.4043\n",
      "Epoch 2/30\n",
      "\n",
      "Epoch 00002: val_loss improved from 3.40430 to 3.21930, saving model to model.h5\n",
      "141/141 - 22s - loss: 3.2329 - val_loss: 3.2193\n",
      "Epoch 3/30\n",
      "\n",
      "Epoch 00003: val_loss improved from 3.21930 to 3.13313, saving model to model.h5\n",
      "141/141 - 22s - loss: 3.0742 - val_loss: 3.1331\n",
      "Epoch 4/30\n",
      "\n",
      "Epoch 00004: val_loss improved from 3.13313 to 3.01463, saving model to model.h5\n",
      "141/141 - 23s - loss: 2.9448 - val_loss: 3.0146\n",
      "Epoch 5/30\n",
      "\n",
      "Epoch 00005: val_loss improved from 3.01463 to 2.88308, saving model to model.h5\n",
      "141/141 - 22s - loss: 2.7698 - val_loss: 2.8831\n",
      "Epoch 6/30\n",
      "\n",
      "Epoch 00006: val_loss improved from 2.88308 to 2.78203, saving model to model.h5\n",
      "141/141 - 22s - loss: 2.6019 - val_loss: 2.7820\n",
      "Epoch 7/30\n",
      "\n",
      "Epoch 00007: val_loss improved from 2.78203 to 2.67989, saving model to model.h5\n",
      "141/141 - 22s - loss: 2.4458 - val_loss: 2.6799\n",
      "Epoch 8/30\n",
      "\n",
      "Epoch 00008: val_loss improved from 2.67989 to 2.58919, saving model to model.h5\n",
      "141/141 - 22s - loss: 2.3057 - val_loss: 2.5892\n",
      "Epoch 9/30\n",
      "\n",
      "Epoch 00009: val_loss improved from 2.58919 to 2.51476, saving model to model.h5\n",
      "141/141 - 22s - loss: 2.1714 - val_loss: 2.5148\n",
      "Epoch 10/30\n",
      "\n",
      "Epoch 00010: val_loss improved from 2.51476 to 2.43541, saving model to model.h5\n",
      "141/141 - 22s - loss: 2.0368 - val_loss: 2.4354\n",
      "Epoch 11/30\n",
      "\n",
      "Epoch 00011: val_loss improved from 2.43541 to 2.35355, saving model to model.h5\n",
      "141/141 - 22s - loss: 1.9083 - val_loss: 2.3535\n",
      "Epoch 12/30\n",
      "\n",
      "Epoch 00012: val_loss improved from 2.35355 to 2.28799, saving model to model.h5\n",
      "141/141 - 22s - loss: 1.7827 - val_loss: 2.2880\n",
      "Epoch 13/30\n",
      "\n",
      "Epoch 00013: val_loss improved from 2.28799 to 2.22508, saving model to model.h5\n",
      "141/141 - 22s - loss: 1.6657 - val_loss: 2.2251\n",
      "Epoch 14/30\n",
      "\n",
      "Epoch 00014: val_loss improved from 2.22508 to 2.18687, saving model to model.h5\n",
      "141/141 - 22s - loss: 1.5566 - val_loss: 2.1869\n",
      "Epoch 15/30\n",
      "\n",
      "Epoch 00015: val_loss improved from 2.18687 to 2.13954, saving model to model.h5\n",
      "141/141 - 22s - loss: 1.4539 - val_loss: 2.1395\n",
      "Epoch 16/30\n",
      "\n",
      "Epoch 00016: val_loss improved from 2.13954 to 2.10608, saving model to model.h5\n",
      "141/141 - 22s - loss: 1.3517 - val_loss: 2.1061\n",
      "Epoch 17/30\n",
      "\n",
      "Epoch 00017: val_loss improved from 2.10608 to 2.07910, saving model to model.h5\n",
      "141/141 - 22s - loss: 1.2588 - val_loss: 2.0791\n",
      "Epoch 18/30\n",
      "\n",
      "Epoch 00018: val_loss improved from 2.07910 to 2.03988, saving model to model.h5\n",
      "141/141 - 22s - loss: 1.1685 - val_loss: 2.0399\n",
      "Epoch 19/30\n",
      "\n",
      "Epoch 00019: val_loss improved from 2.03988 to 2.00990, saving model to model.h5\n",
      "141/141 - 22s - loss: 1.0768 - val_loss: 2.0099\n",
      "Epoch 20/30\n",
      "\n",
      "Epoch 00020: val_loss improved from 2.00990 to 1.99073, saving model to model.h5\n",
      "141/141 - 22s - loss: 0.9922 - val_loss: 1.9907\n",
      "Epoch 21/30\n",
      "\n",
      "Epoch 00021: val_loss improved from 1.99073 to 1.96287, saving model to model.h5\n",
      "141/141 - 22s - loss: 0.9159 - val_loss: 1.9629\n",
      "Epoch 22/30\n",
      "\n",
      "Epoch 00022: val_loss improved from 1.96287 to 1.93900, saving model to model.h5\n",
      "141/141 - 22s - loss: 0.8434 - val_loss: 1.9390\n",
      "Epoch 23/30\n",
      "\n",
      "Epoch 00023: val_loss improved from 1.93900 to 1.91829, saving model to model.h5\n",
      "141/141 - 22s - loss: 0.7712 - val_loss: 1.9183\n",
      "Epoch 24/30\n",
      "\n",
      "Epoch 00024: val_loss improved from 1.91829 to 1.91746, saving model to model.h5\n",
      "141/141 - 22s - loss: 0.7055 - val_loss: 1.9175\n",
      "Epoch 25/30\n",
      "\n",
      "Epoch 00025: val_loss improved from 1.91746 to 1.90433, saving model to model.h5\n",
      "141/141 - 22s - loss: 0.6444 - val_loss: 1.9043\n",
      "Epoch 26/30\n",
      "\n",
      "Epoch 00026: val_loss improved from 1.90433 to 1.89329, saving model to model.h5\n",
      "141/141 - 22s - loss: 0.5920 - val_loss: 1.8933\n",
      "Epoch 27/30\n",
      "\n",
      "Epoch 00027: val_loss did not improve from 1.89329\n",
      "141/141 - 22s - loss: 0.5421 - val_loss: 1.9043\n",
      "Epoch 28/30\n",
      "\n",
      "Epoch 00028: val_loss improved from 1.89329 to 1.89297, saving model to model.h5\n",
      "141/141 - 22s - loss: 0.4947 - val_loss: 1.8930\n",
      "Epoch 29/30\n",
      "\n",
      "Epoch 00029: val_loss improved from 1.89297 to 1.88551, saving model to model.h5\n",
      "141/141 - 22s - loss: 0.4490 - val_loss: 1.8855\n",
      "Epoch 30/30\n",
      "\n",
      "Epoch 00030: val_loss improved from 1.88551 to 1.87953, saving model to model.h5\n",
      "141/141 - 22s - loss: 0.4129 - val_loss: 1.8795\n"
     ]
    },
    {
     "data": {
      "text/plain": [
       "<tensorflow.python.keras.callbacks.History at 0x7f6863229f60>"
      ]
     },
     "execution_count": 131,
     "metadata": {
      "tags": []
     },
     "output_type": "execute_result"
    }
   ],
   "source": [
    "# fit model\n",
    "filename = 'model.h5'\n",
    "checkpoint = ModelCheckpoint(filename, monitor='val_loss', verbose=1, save_best_only=True, mode='min')\n",
    "model.fit(trainX, trainY, epochs=30, batch_size=64, validation_data=(testX, testY), callbacks=[checkpoint], verbose=2)"
   ]
  },
  {
   "cell_type": "code",
   "execution_count": 133,
   "metadata": {
    "colab": {
     "base_uri": "https://localhost:8080/",
     "height": 50
    },
    "colab_type": "code",
    "id": "8CKLOyE2RxO-",
    "outputId": "4bf20bcf-376c-4026-a430-1f825d824e99"
   },
   "outputs": [
    {
     "name": "stdout",
     "output_type": "stream",
     "text": [
      "['we broke up' 'nous avons rompu'\n",
      " 'ccby france attribution tatoebaorg hybrid sacredceltic']\n"
     ]
    }
   ],
   "source": [
    "print(train[0])"
   ]
  },
  {
   "cell_type": "code",
   "execution_count": 134,
   "metadata": {
    "colab": {
     "base_uri": "https://localhost:8080/",
     "height": 927
    },
    "colab_type": "code",
    "id": "fGNMFyr2dFp7",
    "outputId": "b290f810-5e50-4af2-f81e-6a425b8e0fe9"
   },
   "outputs": [
    {
     "name": "stdout",
     "output_type": "stream",
     "text": [
      "train\n",
      "WARNING:tensorflow:11 out of the last 11 calls to <function Model.make_predict_function.<locals>.predict_function at 0x7f686fadb6a8> triggered tf.function retracing. Tracing is expensive and the excessive number of tracings could be due to (1) creating @tf.function repeatedly in a loop, (2) passing tensors with different shapes, (3) passing Python objects instead of tensors. For (1), please define your @tf.function outside of the loop. For (2), @tf.function has experimental_relax_shapes=True option that relaxes argument shapes that can avoid unnecessary retracing. For (3), please refer to https://www.tensorflow.org/tutorials/customization/performance#python_or_tensor_args and https://www.tensorflow.org/api_docs/python/tf/function for  more details.\n",
      " target=[['we broke up' 'nous avons rompu'\n",
      " 'ccby france attribution tatoebaorg hybrid sacredceltic']], predicted=[we broke up]\n",
      " target=[['give me a hand' 'pretezmoi main forte'\n",
      " 'ccby france attribution tatoebaorg ck sacredceltic']], predicted=[give me a hand]\n",
      " target=[['dont do it' 'ne le faites pas'\n",
      " 'ccby france attribution tatoebaorg scott sacredceltic']], predicted=[dont do it]\n",
      " target=[['take a shower' 'prenez une douche'\n",
      " 'ccby france attribution tatoebaorg ck sacredceltic']], predicted=[take a shower]\n",
      " target=[['tom succeeded' 'tom a reussi'\n",
      " 'ccby france attribution tatoebaorg ck julienpdc']], predicted=[tom succeeded]\n",
      " target=[['youre lazy' 'vous etes paresseux'\n",
      " 'ccby france attribution tatoebaorg ck sacredceltic']], predicted=[youre lazy]\n",
      " target=[['it was night' 'cetait la nuit'\n",
      " 'ccby france attribution tatoebaorg ck sacredceltic']], predicted=[it was night]\n",
      " target=[['they gave up' 'ils ont abandonne'\n",
      " 'ccby france attribution tatoebaorg ck aiji']], predicted=[they gave up]\n",
      " target=[['we got lucky' 'nous avons eu de la chance'\n",
      " 'ccby france attribution tatoebaorg ck yemana']], predicted=[we got lucky]\n",
      " target=[['let it be' 'ainsi soitil' 'ccby france attribution tatoebaorg']], predicted=[let it be]\n"
     ]
    },
    {
     "name": "stderr",
     "output_type": "stream",
     "text": [
      "/usr/local/lib/python3.6/dist-packages/nltk/translate/bleu_score.py:490: UserWarning: \n",
      "Corpus/Sentence contains 0 counts of 3-gram overlaps.\n",
      "BLEU scores might be undesirable; use SmoothingFunction().\n",
      "  warnings.warn(_msg)\n"
     ]
    },
    {
     "name": "stdout",
     "output_type": "stream",
     "text": [
      "BLEU-1: 0.009759\n",
      "BLEU-2: 0.004451\n",
      "BLEU-3: 0.010459\n",
      "BLEU-4: 0.012950\n",
      "test\n",
      " target=[['save tom' 'sauvez tom' 'ccby france attribution tatoebaorg ck aiji']], predicted=[warn tom]\n",
      " target=[['youre crafty' 'vous etes rusees'\n",
      " 'ccby france attribution tatoebaorg ck sacredceltic']], predicted=[youre amazing]\n",
      " target=[['i have doubts' 'jai des doutes'\n",
      " 'ccby france attribution tatoebaorg ck aiji']], predicted=[i have lost]\n",
      " target=[['they all knew' 'elles savaient toutes'\n",
      " 'ccby france attribution tatoebaorg ck sacredceltic']], predicted=[they all drank]\n",
      " target=[['youve tried' 'vous avez essaye'\n",
      " 'ccby france attribution tatoebaorg ck sacredceltic']], predicted=[you tried]\n",
      " target=[['now we wait' 'maintenant nous attendons'\n",
      " 'ccby france attribution tatoebaorg ck sacredceltic']], predicted=[well will it]\n",
      " target=[['look at my arm' 'regarde mon bras'\n",
      " 'ccby france attribution tatoebaorg hybrid aiji']], predicted=[many my my]\n",
      " target=[['we must obey' 'il nous faut obeir'\n",
      " 'ccby france attribution tatoebaorg ck sacredceltic']], predicted=[we must speak]\n",
      " target=[['we caught you' 'nous vous avons attrapees'\n",
      " 'ccby france attribution tatoebaorg ck sacredceltic']], predicted=[we called you]\n",
      " target=[['wait here' 'attendez ici'\n",
      " 'ccby france attribution tatoebaorg ck sacredceltic']], predicted=[come here]\n",
      "BLEU-1: 0.005944\n",
      "BLEU-2: 0.002413\n",
      "BLEU-3: 0.006944\n",
      "BLEU-4: 0.009044\n"
     ]
    }
   ],
   "source": [
    "from pickle import load\n",
    "from numpy import array\n",
    "from numpy import argmax\n",
    "from keras.preprocessing.text import Tokenizer\n",
    "from keras.preprocessing.sequence import pad_sequences\n",
    "from keras.models import load_model\n",
    "from nltk.translate.bleu_score import corpus_bleu\n",
    "\n",
    "# load a clean dataset\n",
    "def load_clean_sentences(filename):\n",
    "\treturn load(open(filename, 'rb'))\n",
    "\n",
    "# fit a tokenizer\n",
    "def create_tokenizer(lines):\n",
    "\ttokenizer = Tokenizer()\n",
    "\ttokenizer.fit_on_texts(lines)\n",
    "\treturn tokenizer\n",
    "\n",
    "# max sentence length\n",
    "def max_length(lines):\n",
    "\treturn max(len(line.split()) for line in lines)\n",
    "\n",
    "# encode and pad sequences\n",
    "def encode_sequences(tokenizer, length, lines):\n",
    "\t# integer encode sequences\n",
    "\tX = tokenizer.texts_to_sequences(lines)\n",
    "\t# pad sequences with 0 values\n",
    "\tX = pad_sequences(X, maxlen=length, padding='post')\n",
    "\treturn X\n",
    "\n",
    "# map an integer to a word\n",
    "def word_for_id(integer, tokenizer):\n",
    "\tfor word, index in tokenizer.word_index.items():\n",
    "\t\tif index == integer:\n",
    "\t\t\treturn word\n",
    "\treturn None\n",
    "\n",
    "# generate target given source sequence\n",
    "def predict_sequence(model, tokenizer, source):\n",
    "\tprediction = model.predict(source, verbose=0)[0]\n",
    "\tintegers = [argmax(vector) for vector in prediction]\n",
    "\ttarget = list()\n",
    "\tfor i in integers:\n",
    "\t\tword = word_for_id(i, tokenizer)\n",
    "\t\tif word is None:\n",
    "\t\t\tbreak\n",
    "\t\ttarget.append(word)\n",
    "\treturn ' '.join(target)\n",
    "\n",
    "# evaluate the skill of the model\n",
    "def evaluate_model(model, tokenizer, sources, raw_dataset):\n",
    "\tactual, predicted = list(), list()\n",
    "\tfor i, source in enumerate(sources):\n",
    "    # translate encoded source text\n",
    "\t\tsource = source.reshape((1, source.shape[0]))\n",
    "\t\ttranslation = predict_sequence(model, eng_tokenizer, source)\n",
    "\t\traw_target = str(raw_dataset[i])\n",
    "\t\tif i < 10:\n",
    "\t\t\tprint('target=[%s], predicted=[%s]' % ( raw_target, translation))\n",
    "\t\tactual.append([raw_target.split()])\n",
    "\t\tpredicted.append(translation.split())\n",
    "\t# calculate BLEU score\n",
    "\tprint('BLEU-1: %f' % corpus_bleu(actual, predicted, weights=(1.0, 0, 0, 0)))\n",
    "\tprint('BLEU-2: %f' % corpus_bleu(actual, predicted, weights=(0.5, 0.5, 0, 0)))\n",
    "\tprint('BLEU-3: %f' % corpus_bleu(actual, predicted, weights=(0.3, 0.3, 0.3, 0)))\n",
    "\tprint('BLEU-4: %f' % corpus_bleu(actual, predicted, weights=(0.25, 0.25, 0.25, 0.25)))\n",
    "\n",
    "# load datasets\n",
    "dataset = load_clean_sentences('english-french-both.pkl')\n",
    "train = load_clean_sentences('english-french-train.pkl')\n",
    "test = load_clean_sentences('english-french-test.pkl')\n",
    "#prepare english tokenizer\n",
    "eng_tokenizer=create_tokenizer(dataset[:, 0])\n",
    "eng_vocab_size=len(eng_tokenizer.word_index)+1\n",
    "eng_length=max_length(dataset[:, 0])\n",
    "# prepare german tokenizer\n",
    "ger_tokenizer=create_tokenizer(dataset[:,1])\n",
    "ger_vocab_size=len(ger_tokenizer.word_index)+1\n",
    "ger_length=max_length(dataset[:, 1])\n",
    "# prepare data\n",
    "trainX = encode_sequences(ger_tokenizer, ger_length, train[:, 1])\n",
    "testX = encode_sequences(ger_tokenizer, ger_length, test[:, 1])\n",
    "\n",
    "# load model\n",
    "model = load_model('model.h5')\n",
    "# test on some training sequences\n",
    "print('train')\n",
    "evaluate_model(model, eng_tokenizer, trainX, train)\n",
    "# test on some test sequences\n",
    "print('test')\n",
    "evaluate_model(model, eng_tokenizer, testX, test)"
   ]
  },
  {
   "cell_type": "code",
   "execution_count": null,
   "metadata": {
    "colab": {},
    "colab_type": "code",
    "id": "5kHzx0C0pSOl"
   },
   "outputs": [],
   "source": []
  }
 ],
 "metadata": {
  "colab": {
   "name": "Neural Machine Transaction Project.ipynb",
   "provenance": []
  },
  "kernelspec": {
   "display_name": "Python 3",
   "language": "python",
   "name": "python3"
  },
  "language_info": {
   "codemirror_mode": {
    "name": "ipython",
    "version": 3
   },
   "file_extension": ".py",
   "mimetype": "text/x-python",
   "name": "python",
   "nbconvert_exporter": "python",
   "pygments_lexer": "ipython3",
   "version": "3.7.6"
  }
 },
 "nbformat": 4,
 "nbformat_minor": 1
}
